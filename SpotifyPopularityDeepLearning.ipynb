{
  "nbformat": 4,
  "nbformat_minor": 0,
  "metadata": {
    "colab": {
      "name": "SpotifyPopularityDeepLearning.ipynb",
      "provenance": [],
      "collapsed_sections": []
    },
    "kernelspec": {
      "name": "python3",
      "display_name": "Python 3"
    }
  },
  "cells": [
    {
      "cell_type": "code",
      "metadata": {
        "id": "BcORRsCRT8UY"
      },
      "source": [
        "import pandas as pd\n",
        "from tensorflow import keras\n",
        "from sklearn.preprocessing import LabelEncoder, MinMaxScaler\n",
        "from sklearn.model_selection import train_test_split\n",
        "from sklearn.metrics import mean_squared_error\n",
        "from re import sub\n",
        "\n",
        "names_label_encoder = LabelEncoder()\n",
        "names_label_scaler = MinMaxScaler()\n",
        "artists_label_encoder = LabelEncoder()\n",
        "artists_label_scaler = MinMaxScaler()\n",
        "\n",
        "spotify_data = pd.read_csv(\"data.csv\")\n",
        "spotify_data[\"duration_sec\"] = spotify_data.duration_ms/1000\n",
        "\n",
        "spotify_data.name = names_label_encoder.fit_transform(spotify_data.name)\n",
        "spotify_data.name = names_label_scaler.fit_transform(spotify_data.name.values.reshape(-1, 1))\n",
        "spotify_data.artists = spotify_data.artists.apply(lambda artists: sub(r\"([\\[|\\]|\\'])\", \"\", artists))\n",
        "spotify_data.artists = artists_label_encoder.fit_transform(spotify_data.artists)\n",
        "spotify_data.artists = artists_label_scaler.fit_transform(spotify_data.artists.values.reshape(-1, 1))\n",
        "\n",
        "spotify_data.drop(columns = [\"id\", \"release_date\", \"duration_ms\"], inplace = True)\n",
        "\n",
        "X_train, X_test, y_train, y_test = train_test_split(spotify_data.drop(columns = [\"popularity\"]),\n",
        "                                                    spotify_data.popularity, test_size = 0.01, random_state = 123)"
      ],
      "execution_count": 1,
      "outputs": []
    },
    {
      "cell_type": "code",
      "metadata": {
        "id": "ArXP4QqvGonx"
      },
      "source": [
        "#criação de um modelo sequencial\n",
        "model = keras.Sequential([\n",
        "    #criação de uma camada oculta com 40 neurônios, funçao de ativação relu e \n",
        "    #que recebe como entrada 16 variáveis                   \n",
        "    keras.layers.Dense(40, activation='relu', input_shape=(16,)),\n",
        "    #criação de uma camada oculta com 20 neurônios e funçao de ativação relu    \n",
        "    keras.layers.Dense(20, activation='relu'),\n",
        "    #criação de uma camada oculta com 10 neurônios e funçao de ativação relu    \n",
        "    keras.layers.Dense(10, activation='relu'),\n",
        "    #criação de uma camada de saída com 1 neurônio   \n",
        "    keras.layers.Dense(1)\n",
        "  ])\n",
        "\n",
        "#definição de como o erro é calculado e definição da função de custo\n",
        "model.compile(loss='mse',\n",
        "                optimizer=\"adam\",\n",
        "                metrics=['mae','mse'])\n",
        "\n",
        "#treinamento do modelo usando dados de treino, repetindo o processo 100 vezes e \n",
        "#separando 1% da base de treino para avaliar a performace durante o treinamento.\n",
        "model.fit(X_train, y_train, epochs=100, validation_split = 0.01, verbose=1)\n",
        "\n",
        "#predição para os valores de treino e teste\n",
        "y_train_pred = model.predict(X_train)\n",
        "y_test_pred = model.predict(X_test)\n",
        "train_rmse = mean_squared_error(y_train, y_train_pred)**(1/2)\n",
        "test_rmse = mean_squared_error(y_test, y_test_pred)**(1/2)\n",
        "\n",
        "print(\"{} de RMSE para o conjunto de treino\".format(train_rmse))\n",
        "print(\"{} de RMSE para o conjunto de teste\".format(test_rmse))"
      ],
      "execution_count": null,
      "outputs": []
    },
    {
      "cell_type": "code",
      "metadata": {
        "id": "kd1yKPpIOS6f",
        "outputId": "75d15b53-5870-48b9-c4ba-0274b8847ce9",
        "colab": {
          "base_uri": "https://localhost:8080/"
        }
      },
      "source": [
        "#criação de um modelo sequencial\n",
        "model = keras.Sequential([\n",
        "    #criação de uma camada oculta com 40 neurônios, funçao de ativação relu e \n",
        "    #que recebe como entrada 16 variáveis                   \n",
        "    keras.layers.Dense(40, activation='relu', input_shape=(16,), kernel_initializer = keras.initializers.RandomNormal(stddev=0.01)),\n",
        "    #criação de uma camada oculta com 20 neurônios e funçao de ativação relu    \n",
        "    keras.layers.Dense(20, activation='relu', kernel_initializer = keras.initializers.RandomNormal(stddev=0.01)),\n",
        "    #criação de uma camada oculta com 10 neurônios e funçao de ativação relu    \n",
        "    keras.layers.Dense(10, activation='relu', kernel_initializer = keras.initializers.RandomNormal(stddev=0.01)),\n",
        "    #criação de uma camada de saída com 1 neurônio   \n",
        "    keras.layers.Dense(1)\n",
        "  ])\n",
        "\n",
        "#definição de como o erro é calculado e definição da função de custo\n",
        "model.compile(loss='mse',\n",
        "                optimizer=\"adam\",\n",
        "                metrics=['mae','mse'])\n",
        "\n",
        "#treinamento do modelo usando dados de treino, repetindo o processo 100 vezes e \n",
        "#separando 1% da base de treino para avaliar a performace durante o treinamento.\n",
        "model.fit(X_train, y_train, epochs=100, validation_split = 0.01, verbose=0)\n",
        "\n",
        "#predição para os valores de treino e teste\n",
        "y_train_pred = model.predict(X_train)\n",
        "y_test_pred = model.predict(X_test)\n",
        "train_rmse = mean_squared_error(y_train, y_train_pred)**(1/2)\n",
        "test_rmse = mean_squared_error(y_test, y_test_pred)**(1/2)\n",
        "\n",
        "print(\"{} de RMSE para o conjunto de treino\".format(train_rmse))\n",
        "print(\"{} de RMSE para o conjunto de teste\".format(test_rmse))"
      ],
      "execution_count": null,
      "outputs": [
        {
          "output_type": "stream",
          "text": [
            "10.706676376062438 de RMSE para o conjunto de treino\n",
            "10.525687867875227 de RMSE para o conjunto de teste\n"
          ],
          "name": "stdout"
        }
      ]
    },
    {
      "cell_type": "code",
      "metadata": {
        "id": "DNiIDGMrAjdI",
        "outputId": "f1dc370e-90a4-4255-a979-5d743122df91",
        "colab": {
          "base_uri": "https://localhost:8080/"
        }
      },
      "source": [
        "#criação de um modelo sequencial\n",
        "model = keras.Sequential([\n",
        "    #criação de uma camada oculta com 40 neurônios, funçao de ativação relu e \n",
        "    #que recebe como entrada 16 variáveis                   \n",
        "    keras.layers.Dense(40, activation='relu', input_shape=(16,), kernel_initializer = keras.initializers.RandomNormal(stddev=0.01),\n",
        "                       kernel_regularizer=keras.regularizers.l2(l=0.001)),\n",
        "    #criação de uma camada oculta com 20 neurônios e funçao de ativação relu    \n",
        "    keras.layers.Dense(20, activation='relu', kernel_initializer = keras.initializers.RandomNormal(stddev=0.01)),\n",
        "    #criação de uma camada oculta com 10 neurônios e funçao de ativação relu    \n",
        "    keras.layers.Dense(10, activation='relu', kernel_initializer = keras.initializers.RandomNormal(stddev=0.01)),\n",
        "    #criação de uma camada de saída com 1 neurônio   \n",
        "    keras.layers.Dense(1)\n",
        "  ])\n",
        "\n",
        "#definição de como o erro é calculado e definição da função de custo\n",
        "model.compile(loss='mse',\n",
        "                optimizer=\"adam\",\n",
        "                metrics=['mae','mse'])\n",
        "\n",
        "#treinamento do modelo usando dados de treino, repetindo o processo 100 vezes e \n",
        "#separando 1% da base de treino para avaliar a performace durante o treinamento.\n",
        "model.fit(X_train, y_train, epochs=100, validation_split = 0.01, verbose=0)\n",
        "\n",
        "#predição para os valores de treino e teste\n",
        "y_train_pred = model.predict(X_train)\n",
        "y_test_pred = model.predict(X_test)\n",
        "train_rmse = mean_squared_error(y_train, y_train_pred)**(1/2)\n",
        "test_rmse = mean_squared_error(y_test, y_test_pred)**(1/2)\n",
        "\n",
        "print(\"{} de RMSE para o conjunto de treino\".format(train_rmse))\n",
        "print(\"{} de RMSE para o conjunto de teste\".format(test_rmse))"
      ],
      "execution_count": 11,
      "outputs": [
        {
          "output_type": "stream",
          "text": [
            "10.10830100378831 de RMSE para o conjunto de treino\n",
            "9.994143622624032 de RMSE para o conjunto de teste\n"
          ],
          "name": "stdout"
        }
      ]
    },
    {
      "cell_type": "code",
      "metadata": {
        "id": "edxSIa64Avtb",
        "outputId": "20256ef5-36b3-48d1-ad79-2d5d16ec95fb",
        "colab": {
          "base_uri": "https://localhost:8080/"
        }
      },
      "source": [
        "#criação de um modelo sequencial\n",
        "model = keras.Sequential([\n",
        "    #criação de uma camada oculta com 40 neurônios, funçao de ativação relu e \n",
        "    #que recebe como entrada 16 variáveis                   \n",
        "    keras.layers.Dense(40, activation='relu', input_shape=(16,), kernel_initializer = keras.initializers.RandomNormal(stddev=0.01)),\n",
        "    keras.layers.Dropout(0.2),\n",
        "    #criação de uma camada oculta com 20 neurônios e funçao de ativação relu    \n",
        "    keras.layers.Dense(20, activation='relu', kernel_initializer = keras.initializers.RandomNormal(stddev=0.01)),\n",
        "    #criação de uma camada oculta com 10 neurônios e funçao de ativação relu    \n",
        "    keras.layers.Dense(10, activation='relu', kernel_initializer = keras.initializers.RandomNormal(stddev=0.01)),\n",
        "    #criação de uma camada de saída com 1 neurônio   \n",
        "    keras.layers.Dense(1)\n",
        "  ])\n",
        "\n",
        "#definição de como o erro é calculado e definição da função de custo\n",
        "model.compile(loss='mse',\n",
        "                optimizer=\"adam\",\n",
        "                metrics=['mae','mse'])\n",
        "\n",
        "#treinamento do modelo usando dados de treino, repetindo o processo 100 vezes e \n",
        "#separando 1% da base de treino para avaliar a performace durante o treinamento.\n",
        "model.fit(X_train, y_train, epochs=100, validation_split = 0.01, verbose=0)\n",
        "\n",
        "#predição para os valores de treino e teste\n",
        "y_train_pred = model.predict(X_train)\n",
        "y_test_pred = model.predict(X_test)\n",
        "train_rmse = mean_squared_error(y_train, y_train_pred)**(1/2)\n",
        "test_rmse = mean_squared_error(y_test, y_test_pred)**(1/2)\n",
        "\n",
        "print(\"{} de RMSE para o conjunto de treino\".format(train_rmse))\n",
        "print(\"{} de RMSE para o conjunto de teste\".format(test_rmse))"
      ],
      "execution_count": 8,
      "outputs": [
        {
          "output_type": "stream",
          "text": [
            "36.77317909535623 de RMSE para o conjunto de treino\n",
            "36.5346780744086 de RMSE para o conjunto de teste\n"
          ],
          "name": "stdout"
        }
      ]
    }
  ]
}